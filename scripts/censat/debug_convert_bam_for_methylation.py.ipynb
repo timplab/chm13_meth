{
 "cells": [
  {
   "cell_type": "code",
   "execution_count": 19,
   "metadata": {},
   "outputs": [],
   "source": [
    "import os\n",
    "import sys\n",
    "import math\n",
    "import bisect\n",
    "import argparse\n",
    "import gzip\n",
    "import numpy as np\n",
    "from collections import namedtuple\n",
    "from methylbed_utils import MethRead,make_coord,bed_to_coord,coord_to_bed\n",
    "import pysam\n",
    "from Bio import SeqIO\n",
    "import re\n",
    "import multiprocessing as mp\n",
    "import time\n",
    "start_time = time.time()\n",
    "\n",
    "\n",
    "bampath = \"/kyber/Data/Nanopore/projects/regot_targ/082720mamhelen/bam/082720mamhelen.bam\"\n",
    "outbam = \"test_out.bam\"\n",
    "cpgpath = \"/kyber/Data/Nanopore/Analysis/gmoney/CHM13/final_assembly/whole_genome/CpGmethylation.bed.gz\"\n",
    "#fastafile = \"/kyber/Data/Nanopore/Analysis/gmoney/CHM13/final_assembly/ref/t2t-chm13.20200727.fasta\"\n",
    "fastafile = \"/atium/Data/old_mithril_ref/mouse/GCF_000001635.26_GRCm38.p6_genomic.fna\"\n"
   ]
  },
  {
   "cell_type": "code",
   "execution_count": 20,
   "metadata": {},
   "outputs": [
    {
     "data": {
      "text/plain": [
       "'NC_000067.6:100001-200000'"
      ]
     },
     "execution_count": 20,
     "metadata": {},
     "output_type": "execute_result"
    }
   ],
   "source": [
    "\n",
    "def get_windows_from_bam(bampath,winsize = 100000) :\n",
    "    with pysam.AlignmentFile(bampath,\"rb\") as bam :\n",
    "        stats = bam.get_index_statistics()\n",
    "        lengths = bam.lengths\n",
    "        coords = list()\n",
    "        for stat,contigsize in zip(stats,lengths) :\n",
    "            # only fetch from contigs that have mapped reads\n",
    "            if stat.mapped == 0 :\n",
    "                continue\n",
    "            numbins = math.ceil(contigsize/winsize)\n",
    "            wins = [ [x*winsize+1,(x+1)*winsize] for x in range(numbins) ]\n",
    "            wins[-1][1] = contigsize\n",
    "            for win in wins :\n",
    "                coords.append(make_coord(stat.contig,win[0],win[1]))\n",
    "    return coords\n",
    "\n",
    "window = get_windows_from_bam(bampath)[1]\n",
    "window"
   ]
  },
  {
   "cell_type": "code",
   "execution_count": 38,
   "metadata": {},
   "outputs": [],
   "source": [
    "\n",
    "def reset_bam(bam,genome_seq) :\n",
    "    try : \n",
    "        refseq = bam.get_reference_sequence()\n",
    "    except ValueError :\n",
    "        try : \n",
    "            # MD tag not present in minimap2\n",
    "            refseq = genome_seq[ \n",
    "                    bam.reference_start:\n",
    "                    bam.reference_end]\n",
    "        except :\n",
    "            print(\"supply the reference genome (-f,--fasta)\",file=sys.stderr)\n",
    "            sys.exit()\n",
    "    bam.query_sequence = refseq.upper()\n",
    "    bam.cigarstring = ''.join([str(len(refseq)),\"M\"])\n",
    "    return bam\n"
   ]
  },
  {
   "cell_type": "code",
   "execution_count": 39,
   "metadata": {},
   "outputs": [
    {
     "ename": "AttributeError",
     "evalue": "'pysam.libcalignmentfile.AlignmentFile' object has no attribute 'get_reference_sequence'",
     "output_type": "error",
     "traceback": [
      "\u001b[0;31m---------------------------------------------------------------------------\u001b[0m",
      "\u001b[0;31mAttributeError\u001b[0m                            Traceback (most recent call last)",
      "\u001b[0;32m<ipython-input-39-49306f8e5a2c>\u001b[0m in \u001b[0;36m<module>\u001b[0;34m\u001b[0m\n\u001b[1;32m      2\u001b[0m \u001b[0mfasta\u001b[0m \u001b[0;34m=\u001b[0m \u001b[0mpysam\u001b[0m\u001b[0;34m.\u001b[0m\u001b[0mFastaFile\u001b[0m\u001b[0;34m(\u001b[0m\u001b[0mfastafile\u001b[0m\u001b[0;34m)\u001b[0m\u001b[0;34m\u001b[0m\u001b[0;34m\u001b[0m\u001b[0m\n\u001b[1;32m      3\u001b[0m \u001b[0;34m\u001b[0m\u001b[0m\n\u001b[0;32m----> 4\u001b[0;31m \u001b[0mnewbam\u001b[0m \u001b[0;34m=\u001b[0m \u001b[0mreset_bam\u001b[0m\u001b[0;34m(\u001b[0m\u001b[0mbam\u001b[0m\u001b[0;34m,\u001b[0m\u001b[0mfasta\u001b[0m\u001b[0;34m)\u001b[0m\u001b[0;34m\u001b[0m\u001b[0;34m\u001b[0m\u001b[0m\n\u001b[0m",
      "\u001b[0;32m<ipython-input-38-725506f8a963>\u001b[0m in \u001b[0;36mreset_bam\u001b[0;34m(bam, genome_seq)\u001b[0m\n\u001b[1;32m      2\u001b[0m \u001b[0;32mdef\u001b[0m \u001b[0mreset_bam\u001b[0m\u001b[0;34m(\u001b[0m\u001b[0mbam\u001b[0m\u001b[0;34m,\u001b[0m\u001b[0mgenome_seq\u001b[0m\u001b[0;34m)\u001b[0m \u001b[0;34m:\u001b[0m\u001b[0;34m\u001b[0m\u001b[0;34m\u001b[0m\u001b[0m\n\u001b[1;32m      3\u001b[0m     \u001b[0;32mtry\u001b[0m \u001b[0;34m:\u001b[0m\u001b[0;34m\u001b[0m\u001b[0;34m\u001b[0m\u001b[0m\n\u001b[0;32m----> 4\u001b[0;31m         \u001b[0mrefseq\u001b[0m \u001b[0;34m=\u001b[0m \u001b[0mbam\u001b[0m\u001b[0;34m.\u001b[0m\u001b[0mget_reference_sequence\u001b[0m\u001b[0;34m(\u001b[0m\u001b[0;34m)\u001b[0m\u001b[0;34m\u001b[0m\u001b[0;34m\u001b[0m\u001b[0m\n\u001b[0m\u001b[1;32m      5\u001b[0m     \u001b[0;32mexcept\u001b[0m \u001b[0mValueError\u001b[0m \u001b[0;34m:\u001b[0m\u001b[0;34m\u001b[0m\u001b[0;34m\u001b[0m\u001b[0m\n\u001b[1;32m      6\u001b[0m         \u001b[0;32mtry\u001b[0m \u001b[0;34m:\u001b[0m\u001b[0;34m\u001b[0m\u001b[0;34m\u001b[0m\u001b[0m\n",
      "\u001b[0;31mAttributeError\u001b[0m: 'pysam.libcalignmentfile.AlignmentFile' object has no attribute 'get_reference_sequence'"
     ]
    }
   ],
   "source": [
    "bam = pysam.AlignmentFile(bampath,\"rb\")\n",
    "fasta = pysam.FastaFile(fastafile)\n",
    "\n",
    "newbam = reset_bam(bam,fasta)\n"
   ]
  },
  {
   "cell_type": "code",
   "execution_count": null,
   "metadata": {},
   "outputs": [],
   "source": []
  },
  {
   "cell_type": "code",
   "execution_count": null,
   "metadata": {},
   "outputs": [],
   "source": []
  }
 ],
 "metadata": {
  "kernelspec": {
   "display_name": "Python 3",
   "language": "python",
   "name": "python3"
  },
  "language_info": {
   "codemirror_mode": {
    "name": "ipython",
    "version": 3
   },
   "file_extension": ".py",
   "mimetype": "text/x-python",
   "name": "python",
   "nbconvert_exporter": "python",
   "pygments_lexer": "ipython3",
   "version": "3.6.9"
  }
 },
 "nbformat": 4,
 "nbformat_minor": 2
}
